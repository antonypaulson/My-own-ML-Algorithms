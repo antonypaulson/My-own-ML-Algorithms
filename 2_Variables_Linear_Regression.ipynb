{
  "nbformat": 4,
  "nbformat_minor": 0,
  "metadata": {
    "colab": {
      "name": "2 Variables Linear Regression.ipynb",
      "version": "0.3.2",
      "provenance": [],
      "include_colab_link": true
    },
    "kernelspec": {
      "name": "python3",
      "display_name": "Python 3"
    },
    "accelerator": "GPU"
  },
  "cells": [
    {
      "cell_type": "markdown",
      "metadata": {
        "id": "view-in-github",
        "colab_type": "text"
      },
      "source": [
        "<a href=\"https://colab.research.google.com/github/antonypaulson/My-own-ML-Algorithms/blob/master/2_Variables_Linear_Regression.ipynb\" target=\"_parent\"><img src=\"https://colab.research.google.com/assets/colab-badge.svg\" alt=\"Open In Colab\"/></a>"
      ]
    },
    {
      "cell_type": "code",
      "metadata": {
        "id": "rj5ilTXGMPmf",
        "colab_type": "code",
        "colab": {}
      },
      "source": [
        "#Importing the libraries\n",
        "import numpy as np\n",
        "import pandas as pd"
      ],
      "execution_count": 0,
      "outputs": []
    },
    {
      "cell_type": "code",
      "metadata": {
        "id": "Rtvr-FikM_u7",
        "colab_type": "code",
        "colab": {}
      },
      "source": [
        "#Import the data\n",
        "data = pd.read_csv('ex1data2.txt',header=None, names =[\"X1\",\"X2\", \"y\"])"
      ],
      "execution_count": 0,
      "outputs": []
    },
    {
      "cell_type": "code",
      "metadata": {
        "id": "6qZ0pk4Ai48U",
        "colab_type": "code",
        "colab": {}
      },
      "source": [
        ""
      ],
      "execution_count": 0,
      "outputs": []
    },
    {
      "cell_type": "code",
      "metadata": {
        "id": "whtZhMQ8pRxh",
        "colab_type": "code",
        "colab": {
          "base_uri": "https://localhost:8080/",
          "height": 204
        },
        "outputId": "42da71af-449d-46fc-adac-cb447670c205"
      },
      "source": [
        "data = data.astype('float')\n",
        "data.head()"
      ],
      "execution_count": 10,
      "outputs": [
        {
          "output_type": "execute_result",
          "data": {
            "text/html": [
              "<div>\n",
              "<style scoped>\n",
              "    .dataframe tbody tr th:only-of-type {\n",
              "        vertical-align: middle;\n",
              "    }\n",
              "\n",
              "    .dataframe tbody tr th {\n",
              "        vertical-align: top;\n",
              "    }\n",
              "\n",
              "    .dataframe thead th {\n",
              "        text-align: right;\n",
              "    }\n",
              "</style>\n",
              "<table border=\"1\" class=\"dataframe\">\n",
              "  <thead>\n",
              "    <tr style=\"text-align: right;\">\n",
              "      <th></th>\n",
              "      <th>X1</th>\n",
              "      <th>X2</th>\n",
              "      <th>y</th>\n",
              "    </tr>\n",
              "  </thead>\n",
              "  <tbody>\n",
              "    <tr>\n",
              "      <th>0</th>\n",
              "      <td>2104.0</td>\n",
              "      <td>3.0</td>\n",
              "      <td>399900.0</td>\n",
              "    </tr>\n",
              "    <tr>\n",
              "      <th>1</th>\n",
              "      <td>1600.0</td>\n",
              "      <td>3.0</td>\n",
              "      <td>329900.0</td>\n",
              "    </tr>\n",
              "    <tr>\n",
              "      <th>2</th>\n",
              "      <td>2400.0</td>\n",
              "      <td>3.0</td>\n",
              "      <td>369000.0</td>\n",
              "    </tr>\n",
              "    <tr>\n",
              "      <th>3</th>\n",
              "      <td>1416.0</td>\n",
              "      <td>2.0</td>\n",
              "      <td>232000.0</td>\n",
              "    </tr>\n",
              "    <tr>\n",
              "      <th>4</th>\n",
              "      <td>3000.0</td>\n",
              "      <td>4.0</td>\n",
              "      <td>539900.0</td>\n",
              "    </tr>\n",
              "  </tbody>\n",
              "</table>\n",
              "</div>"
            ],
            "text/plain": [
              "       X1   X2         y\n",
              "0  2104.0  3.0  399900.0\n",
              "1  1600.0  3.0  329900.0\n",
              "2  2400.0  3.0  369000.0\n",
              "3  1416.0  2.0  232000.0\n",
              "4  3000.0  4.0  539900.0"
            ]
          },
          "metadata": {
            "tags": []
          },
          "execution_count": 10
        }
      ]
    },
    {
      "cell_type": "code",
      "metadata": {
        "id": "BMZZ4VdqSLyc",
        "colab_type": "code",
        "colab": {}
      },
      "source": [
        "#convert into arrays\n",
        "X1 = np.array(data['X1']).reshape(len(data['X1']),1)\n",
        "X2 = np.array(data['X2']).reshape(len(data['X2']),1)\n",
        "X1 = (X1 -np.mean(X1))/np.std(X1)\n",
        "X2 = (X1 -np.mean(X1))/np.std(X1)"
      ],
      "execution_count": 0,
      "outputs": []
    },
    {
      "cell_type": "code",
      "metadata": {
        "id": "LFNKiovOSs7v",
        "colab_type": "code",
        "colab": {}
      },
      "source": [
        "#convert into arrays\n",
        "y = np.array(data['y']).reshape(len(data['y']),1)"
      ],
      "execution_count": 0,
      "outputs": []
    },
    {
      "cell_type": "code",
      "metadata": {
        "id": "Cq_xpjS8Uj2S",
        "colab_type": "code",
        "colab": {}
      },
      "source": [
        "#creating ones\n",
        "x_= np.ones(len(X1))"
      ],
      "execution_count": 0,
      "outputs": []
    },
    {
      "cell_type": "code",
      "metadata": {
        "id": "bWjinNTkVnCa",
        "colab_type": "code",
        "colab": {}
      },
      "source": [
        "#Concatenate ones to the large X to create two columns\n",
        "X = np.c_[x_,X1,X2]\n",
        "a = np.c_[X1,X2]"
      ],
      "execution_count": 0,
      "outputs": []
    },
    {
      "cell_type": "code",
      "metadata": {
        "id": "4EnLC9u8S1ed",
        "colab_type": "code",
        "colab": {}
      },
      "source": [
        "#Creating the cost function\n",
        "theta = [[0],\n",
        "         [0],\n",
        "        [0]]\n",
        "def costfunction(X,y,theta):\n",
        "  h = np.dot(X,theta)\n",
        "  m = len(X)\n",
        "  sse = (np.sum(np.square(h-y)))/m #Sum of squared error\n",
        "  J = sse/2  #cost function\n",
        "  return J"
      ],
      "execution_count": 0,
      "outputs": []
    },
    {
      "cell_type": "code",
      "metadata": {
        "id": "ZNyZMv4zcNAO",
        "colab_type": "code",
        "outputId": "a5e7fd41-75bc-42a1-cc90-3305b32f0e9e",
        "colab": {
          "base_uri": "https://localhost:8080/",
          "height": 34
        }
      },
      "source": [
        "np.dot(X,theta).shape"
      ],
      "execution_count": 63,
      "outputs": [
        {
          "output_type": "execute_result",
          "data": {
            "text/plain": [
              "(47, 1)"
            ]
          },
          "metadata": {
            "tags": []
          },
          "execution_count": 63
        }
      ]
    },
    {
      "cell_type": "code",
      "metadata": {
        "id": "oK2B9zAQWCOv",
        "colab_type": "code",
        "outputId": "f8261af8-4476-4b66-8419-1b550abb7701",
        "colab": {
          "base_uri": "https://localhost:8080/",
          "height": 34
        }
      },
      "source": [
        "#Compute the cost function\n",
        "costfunction(X,y,theta)"
      ],
      "execution_count": 64,
      "outputs": [
        {
          "output_type": "execute_result",
          "data": {
            "text/plain": [
              "65591548106.45744"
            ]
          },
          "metadata": {
            "tags": []
          },
          "execution_count": 64
        }
      ]
    },
    {
      "cell_type": "code",
      "metadata": {
        "id": "MRAoJ9BBWCvL",
        "colab_type": "code",
        "colab": {}
      },
      "source": [
        "#Lets run gradient descent\n",
        "def gradientdescent(X,y,theta,alpha=1,steps=1):\n",
        "  m = len(X)\n",
        "  transpos = X.T\n",
        "  cost =[]\n",
        "  for i in range(steps):\n",
        "    h = np.dot(X,theta)\n",
        "    theta = theta - alpha*(1/m)*(np.dot(transpos,(h-y)))\n",
        "    cost.append(costfunction(X,y,theta))\n",
        "  return theta, cost"
      ],
      "execution_count": 0,
      "outputs": []
    },
    {
      "cell_type": "code",
      "metadata": {
        "id": "HlGRZD6tsmdq",
        "colab_type": "code",
        "outputId": "ecf380dd-8f07-4b1f-c774-6821f789bcda",
        "colab": {
          "base_uri": "https://localhost:8080/",
          "height": 68
        }
      },
      "source": [
        "transpos = X.T\n",
        "h = np.dot(X,theta)\n",
        "0.00001*(1/47)*(np.dot(transpos,(h-y)))"
      ],
      "execution_count": 66,
      "outputs": [
        {
          "output_type": "execute_result",
          "data": {
            "text/plain": [
              "array([[-3.4041266 ],\n",
              "       [-1.05764133],\n",
              "       [-1.05764133]])"
            ]
          },
          "metadata": {
            "tags": []
          },
          "execution_count": 66
        }
      ]
    },
    {
      "cell_type": "code",
      "metadata": {
        "id": "zJ6GDtU8lcXB",
        "colab_type": "code",
        "outputId": "56c20253-fc8c-400a-97f5-7b034d711914",
        "colab": {
          "base_uri": "https://localhost:8080/",
          "height": 51
        }
      },
      "source": [
        "alpha = float(input(\"Please enter alpha: \"))\n",
        "steps = int(input(\"Please enter the desired steps: \"))\n",
        "#for i in range()\n",
        "result, cost =gradientdescent(X,y,theta,alpha,steps)"
      ],
      "execution_count": 72,
      "outputs": [
        {
          "output_type": "stream",
          "text": [
            "Please enter alpha: 0.01\n",
            "Please enter the desired steps: 1000\n"
          ],
          "name": "stdout"
        }
      ]
    },
    {
      "cell_type": "code",
      "metadata": {
        "id": "RvydVEcpaOAh",
        "colab_type": "code",
        "outputId": "e639a953-5b7a-4e05-ce01-e2a056121260",
        "colab": {
          "base_uri": "https://localhost:8080/",
          "height": 293
        }
      },
      "source": [
        "import matplotlib.pyplot as plt\n",
        "plt.plot(cost)"
      ],
      "execution_count": 73,
      "outputs": [
        {
          "output_type": "execute_result",
          "data": {
            "text/plain": [
              "[<matplotlib.lines.Line2D at 0x7f7debb1ed68>]"
            ]
          },
          "metadata": {
            "tags": []
          },
          "execution_count": 73
        },
        {
          "output_type": "display_data",
          "data": {
            "image/png": "[encoded data removed]",
            "text/plain": [
              "<Figure size 432x288 with 1 Axes>"
            ]
          },
          "metadata": {
            "tags": []
          }
        }
      ]
    },
    {
      "cell_type": "code",
      "metadata": {
        "id": "aUiy6k3ve0zX",
        "colab_type": "code",
        "outputId": "a29ad672-d70d-4c37-8c84-1811bcad8b38",
        "colab": {
          "base_uri": "https://localhost:8080/",
          "height": 68
        }
      },
      "source": [
        "result"
      ],
      "execution_count": 74,
      "outputs": [
        {
          "output_type": "execute_result",
          "data": {
            "text/plain": [
              "array([[340397.96353532],\n",
              "       [ 52882.06665741],\n",
              "       [ 52882.06665741]])"
            ]
          },
          "metadata": {
            "tags": []
          },
          "execution_count": 74
        }
      ]
    },
    {
      "cell_type": "code",
      "metadata": {
        "id": "9m2uH1XrfRgA",
        "colab_type": "code",
        "outputId": "bed6ab73-4d6f-49be-a081-bb11507a37d4",
        "colab": {
          "base_uri": "https://localhost:8080/",
          "height": 51
        }
      },
      "source": [
        "from sklearn.linear_model import LinearRegression\n",
        "lr = LinearRegression()\n",
        "lr.fit(a,y)"
      ],
      "execution_count": 75,
      "outputs": [
        {
          "output_type": "execute_result",
          "data": {
            "text/plain": [
              "LinearRegression(copy_X=True, fit_intercept=True, n_jobs=None,\n",
              "         normalize=False)"
            ]
          },
          "metadata": {
            "tags": []
          },
          "execution_count": 75
        }
      ]
    },
    {
      "cell_type": "code",
      "metadata": {
        "id": "UX_CN3ORjaqz",
        "colab_type": "code",
        "outputId": "22f6846b-58fc-41b7-caa1-f5749a7c24f1",
        "colab": {
          "base_uri": "https://localhost:8080/",
          "height": 51
        }
      },
      "source": [
        "print(lr.intercept_)\n",
        "print(lr.coef_)\n"
      ],
      "execution_count": 76,
      "outputs": [
        {
          "output_type": "stream",
          "text": [
            "[340412.65957447]\n",
            "[[ 1.37795719e+19 -1.37795719e+19]]\n"
          ],
          "name": "stdout"
        }
      ]
    },
    {
      "cell_type": "code",
      "metadata": {
        "id": "NQEaw54nkKUf",
        "colab_type": "code",
        "colab": {}
      },
      "source": [
        ""
      ],
      "execution_count": 0,
      "outputs": []
    }
  ]
}