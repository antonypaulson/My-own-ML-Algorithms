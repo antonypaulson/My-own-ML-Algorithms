{
  "nbformat": 4,
  "nbformat_minor": 0,
  "metadata": {
    "colab": {
      "name": "Linear Programming Model SIngle variable.ipynb",
      "version": "0.3.2",
      "provenance": [],
      "include_colab_link": true
    },
    "kernelspec": {
      "name": "python3",
      "display_name": "Python 3"
    }
  },
  "cells": [
    {
      "cell_type": "markdown",
      "metadata": {
        "id": "view-in-github",
        "colab_type": "text"
      },
      "source": [
        "<a href=\"https://colab.research.google.com/github/antonypaulson/My-own-ML-Algorithms/blob/master/Linear_Programming_Model_SIngle_variable.ipynb\" target=\"_parent\"><img src=\"https://colab.research.google.com/assets/colab-badge.svg\" alt=\"Open In Colab\"/></a>"
      ]
    },
    {
      "cell_type": "code",
      "metadata": {
        "id": "rj5ilTXGMPmf",
        "colab_type": "code",
        "colab": {}
      },
      "source": [
        "#Importing the libraries\n",
        "import numpy as np\n",
        "import pandas as pd"
      ],
      "execution_count": 0,
      "outputs": []
    },
    {
      "cell_type": "code",
      "metadata": {
        "id": "Rtvr-FikM_u7",
        "colab_type": "code",
        "colab": {}
      },
      "source": [
        "#Import the data\n",
        "data = pd.read_csv('ex1data1.txt',header=None, names =[\"X\", \"y\"])"
      ],
      "execution_count": 0,
      "outputs": []
    },
    {
      "cell_type": "code",
      "metadata": {
        "id": "whtZhMQ8pRxh",
        "colab_type": "code",
        "outputId": "0166be26-9c18-45f9-d927-5369c8902138",
        "colab": {
          "base_uri": "https://localhost:8080/",
          "height": 204
        }
      },
      "source": [
        "data.head()"
      ],
      "execution_count": 0,
      "outputs": [
        {
          "output_type": "execute_result",
          "data": {
            "text/html": [
              "<div>\n",
              "<style scoped>\n",
              "    .dataframe tbody tr th:only-of-type {\n",
              "        vertical-align: middle;\n",
              "    }\n",
              "\n",
              "    .dataframe tbody tr th {\n",
              "        vertical-align: top;\n",
              "    }\n",
              "\n",
              "    .dataframe thead th {\n",
              "        text-align: right;\n",
              "    }\n",
              "</style>\n",
              "<table border=\"1\" class=\"dataframe\">\n",
              "  <thead>\n",
              "    <tr style=\"text-align: right;\">\n",
              "      <th></th>\n",
              "      <th>X</th>\n",
              "      <th>y</th>\n",
              "    </tr>\n",
              "  </thead>\n",
              "  <tbody>\n",
              "    <tr>\n",
              "      <th>0</th>\n",
              "      <td>6.1101</td>\n",
              "      <td>17.5920</td>\n",
              "    </tr>\n",
              "    <tr>\n",
              "      <th>1</th>\n",
              "      <td>5.5277</td>\n",
              "      <td>9.1302</td>\n",
              "    </tr>\n",
              "    <tr>\n",
              "      <th>2</th>\n",
              "      <td>8.5186</td>\n",
              "      <td>13.6620</td>\n",
              "    </tr>\n",
              "    <tr>\n",
              "      <th>3</th>\n",
              "      <td>7.0032</td>\n",
              "      <td>11.8540</td>\n",
              "    </tr>\n",
              "    <tr>\n",
              "      <th>4</th>\n",
              "      <td>5.8598</td>\n",
              "      <td>6.8233</td>\n",
              "    </tr>\n",
              "  </tbody>\n",
              "</table>\n",
              "</div>"
            ],
            "text/plain": [
              "        X        y\n",
              "0  6.1101  17.5920\n",
              "1  5.5277   9.1302\n",
              "2  8.5186  13.6620\n",
              "3  7.0032  11.8540\n",
              "4  5.8598   6.8233"
            ]
          },
          "metadata": {
            "tags": []
          },
          "execution_count": 286
        }
      ]
    },
    {
      "cell_type": "code",
      "metadata": {
        "id": "t3gJqyQeSHqL",
        "colab_type": "code",
        "colab": {}
      },
      "source": [
        "#Create separate lists\n",
        "X = data['X']\n",
        "y = data['y']"
      ],
      "execution_count": 0,
      "outputs": []
    },
    {
      "cell_type": "code",
      "metadata": {
        "id": "BMZZ4VdqSLyc",
        "colab_type": "code",
        "colab": {}
      },
      "source": [
        "#convert into arrays\n",
        "X = np.array(X).reshape(len(X),1)"
      ],
      "execution_count": 0,
      "outputs": []
    },
    {
      "cell_type": "code",
      "metadata": {
        "id": "LFNKiovOSs7v",
        "colab_type": "code",
        "colab": {}
      },
      "source": [
        "#convert into arrays\n",
        "y = np.array(y).reshape(len(y),1)"
      ],
      "execution_count": 0,
      "outputs": []
    },
    {
      "cell_type": "code",
      "metadata": {
        "id": "Cq_xpjS8Uj2S",
        "colab_type": "code",
        "colab": {}
      },
      "source": [
        "#creating ones\n",
        "x_= np.ones(len(X))"
      ],
      "execution_count": 0,
      "outputs": []
    },
    {
      "cell_type": "code",
      "metadata": {
        "id": "bWjinNTkVnCa",
        "colab_type": "code",
        "colab": {}
      },
      "source": [
        "#Concatenate ones to the large X to create two columns\n",
        "X = np.c_[x_,X]"
      ],
      "execution_count": 0,
      "outputs": []
    },
    {
      "cell_type": "code",
      "metadata": {
        "id": "4EnLC9u8S1ed",
        "colab_type": "code",
        "colab": {}
      },
      "source": [
        "#Creating the cost function\n",
        "theta = [[0],\n",
        "         [0]]\n",
        "def costfunction(X,y,theta):\n",
        "  h = np.dot(X,theta)\n",
        "  m = len(X)\n",
        "  sse = (np.sum(np.square(h-y)))/m #Sum of squared error\n",
        "  J = sse/2  #cost function\n",
        "  return J"
      ],
      "execution_count": 0,
      "outputs": []
    },
    {
      "cell_type": "code",
      "metadata": {
        "id": "ZNyZMv4zcNAO",
        "colab_type": "code",
        "outputId": "68844dbd-c29a-4d6c-fe2b-97898af86da8",
        "colab": {
          "base_uri": "https://localhost:8080/",
          "height": 34
        }
      },
      "source": [
        "np.dot(X,theta).shape"
      ],
      "execution_count": 0,
      "outputs": [
        {
          "output_type": "execute_result",
          "data": {
            "text/plain": [
              "(97, 1)"
            ]
          },
          "metadata": {
            "tags": []
          },
          "execution_count": 293
        }
      ]
    },
    {
      "cell_type": "code",
      "metadata": {
        "id": "oK2B9zAQWCOv",
        "colab_type": "code",
        "outputId": "23dc73d6-035e-478d-8106-2ed788458f7d",
        "colab": {
          "base_uri": "https://localhost:8080/",
          "height": 34
        }
      },
      "source": [
        "#Compute the cost function\n",
        "costfunction(X,y,theta)"
      ],
      "execution_count": 0,
      "outputs": [
        {
          "output_type": "execute_result",
          "data": {
            "text/plain": [
              "32.072733877455676"
            ]
          },
          "metadata": {
            "tags": []
          },
          "execution_count": 294
        }
      ]
    },
    {
      "cell_type": "code",
      "metadata": {
        "id": "MRAoJ9BBWCvL",
        "colab_type": "code",
        "colab": {}
      },
      "source": [
        "#Lets run gradient descent\n",
        "def gradientdescent(X,y,theta,alpha=0.01,steps=100):\n",
        "  m = len(X)\n",
        "  transpos = X.T\n",
        "  cost =[]\n",
        "  for i in range(steps):\n",
        "    h = np.dot(X,theta)\n",
        "    theta = theta - alpha*(1/m)*(np.dot(transpos,(h-y)))\n",
        "    cost.append(costfunction(X,y,theta))\n",
        "  return theta, cost"
      ],
      "execution_count": 0,
      "outputs": []
    },
    {
      "cell_type": "code",
      "metadata": {
        "id": "zJ6GDtU8lcXB",
        "colab_type": "code",
        "outputId": "e9eb26a8-e93f-42d8-fb90-cc142e03266f",
        "colab": {
          "base_uri": "https://localhost:8080/",
          "height": 51
        }
      },
      "source": [
        "alpha = float(input(\"Please enter alpha: \"))\n",
        "steps = int(input(\"Please enter the desired steps: \"))"
      ],
      "execution_count": 0,
      "outputs": [
        {
          "output_type": "stream",
          "text": [
            "Please enter alpha: 0.01\n",
            "Please enter the desired steps: 1000\n"
          ],
          "name": "stdout"
        }
      ]
    },
    {
      "cell_type": "code",
      "metadata": {
        "id": "fx0f7p_JaNl4",
        "colab_type": "code",
        "colab": {}
      },
      "source": [
        "#for i in range()\n",
        "result, cost =gradientdescent(X,y,theta,alpha,steps)"
      ],
      "execution_count": 0,
      "outputs": []
    },
    {
      "cell_type": "code",
      "metadata": {
        "id": "RvydVEcpaOAh",
        "colab_type": "code",
        "outputId": "b79093c2-64bf-4615-bd8c-2aa61598431a",
        "colab": {
          "base_uri": "https://localhost:8080/",
          "height": 286
        }
      },
      "source": [
        "import matplotlib.pyplot as plt\n",
        "plt.plot(cost)"
      ],
      "execution_count": 0,
      "outputs": [
        {
          "output_type": "execute_result",
          "data": {
            "text/plain": [
              "[<matplotlib.lines.Line2D at 0x7f243dfa4be0>]"
            ]
          },
          "metadata": {
            "tags": []
          },
          "execution_count": 298
        },
        {
          "output_type": "display_data",
          "data": {
            "image/png": "[encoded data removed]",
            "text/plain": [
              "<Figure size 432x288 with 1 Axes>"
            ]
          },
          "metadata": {
            "tags": []
          }
        }
      ]
    },
    {
      "cell_type": "code",
      "metadata": {
        "id": "aUiy6k3ve0zX",
        "colab_type": "code",
        "outputId": "a1573ac8-48d9-44ca-c9bc-4fcbb22b4c9a",
        "colab": {
          "base_uri": "https://localhost:8080/",
          "height": 51
        }
      },
      "source": [
        "result"
      ],
      "execution_count": 0,
      "outputs": [
        {
          "output_type": "execute_result",
          "data": {
            "text/plain": [
              "array([[-3.24140214],\n",
              "       [ 1.1272942 ]])"
            ]
          },
          "metadata": {
            "tags": []
          },
          "execution_count": 299
        }
      ]
    },
    {
      "cell_type": "code",
      "metadata": {
        "id": "9m2uH1XrfRgA",
        "colab_type": "code",
        "outputId": "cb6ebc5f-f22c-4d98-f9f9-030eb5df1e7a",
        "colab": {
          "base_uri": "https://localhost:8080/",
          "height": 51
        }
      },
      "source": [
        "from sklearn.linear_model import LinearRegression\n",
        "lr = LinearRegression()\n",
        "lr.fit(np.array(a).reshape(len(X),1),np.array(b).reshape(len(y),1))"
      ],
      "execution_count": 0,
      "outputs": [
        {
          "output_type": "execute_result",
          "data": {
            "text/plain": [
              "LinearRegression(copy_X=True, fit_intercept=True, n_jobs=None,\n",
              "         normalize=False)"
            ]
          },
          "metadata": {
            "tags": []
          },
          "execution_count": 300
        }
      ]
    },
    {
      "cell_type": "code",
      "metadata": {
        "id": "UX_CN3ORjaqz",
        "colab_type": "code",
        "outputId": "cfc53249-12e1-4bae-a914-f42514003bd6",
        "colab": {
          "base_uri": "https://localhost:8080/",
          "height": 51
        }
      },
      "source": [
        "print(lr.intercept_)\n",
        "print(lr.coef_)\n"
      ],
      "execution_count": 0,
      "outputs": [
        {
          "output_type": "stream",
          "text": [
            "[-3.89578088]\n",
            "[[1.19303364]]\n"
          ],
          "name": "stdout"
        }
      ]
    },
    {
      "cell_type": "code",
      "metadata": {
        "id": "NQEaw54nkKUf",
        "colab_type": "code",
        "colab": {}
      },
      "source": [
        ""
      ],
      "execution_count": 0,
      "outputs": []
    }
  ]
}