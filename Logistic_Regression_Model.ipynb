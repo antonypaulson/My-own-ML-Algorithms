{
  "nbformat": 4,
  "nbformat_minor": 0,
  "metadata": {
    "colab": {
      "name": "Logistic Regression Model SIngle variable.ipynb",
      "version": "0.3.2",
      "provenance": [],
      "include_colab_link": true
    },
    "kernelspec": {
      "name": "python3",
      "display_name": "Python 3"
    }
  },
  "cells": [
    {
      "cell_type": "markdown",
      "metadata": {
        "id": "view-in-github",
        "colab_type": "text"
      },
      "source": [
        "<a href=\"https://colab.research.google.com/github/antonypaulson/My-own-ML-Algorithms/blob/master/Logistic_Regression_Model.ipynb\" target=\"_parent\"><img src=\"https://colab.research.google.com/assets/colab-badge.svg\" alt=\"Open In Colab\"/></a>"
      ]
    },
    {
      "cell_type": "code",
      "metadata": {
        "id": "rj5ilTXGMPmf",
        "colab_type": "code",
        "colab": {}
      },
      "source": [
        "#Importing the libraries\n",
        "import numpy as np\n",
        "import pandas as pd"
      ],
      "execution_count": 0,
      "outputs": []
    },
    {
      "cell_type": "code",
      "metadata": {
        "id": "Rtvr-FikM_u7",
        "colab_type": "code",
        "colab": {}
      },
      "source": [
        "#Import the data\n",
        "data = pd.read_csv('ex2data1.txt',header=None, names =[\"X1\",\"X2\", \"y\"])"
      ],
      "execution_count": 0,
      "outputs": []
    },
    {
      "cell_type": "code",
      "metadata": {
        "id": "whtZhMQ8pRxh",
        "colab_type": "code",
        "outputId": "2d9a5ce0-c02a-46b5-bf1f-47b52cc5b2cc",
        "colab": {
          "base_uri": "https://localhost:8080/",
          "height": 85
        }
      },
      "source": [
        "data.isnull().sum()"
      ],
      "execution_count": 0,
      "outputs": [
        {
          "output_type": "execute_result",
          "data": {
            "text/plain": [
              "X1    0\n",
              "X2    0\n",
              "y     0\n",
              "dtype: int64"
            ]
          },
          "metadata": {
            "tags": []
          },
          "execution_count": 165
        }
      ]
    },
    {
      "cell_type": "code",
      "metadata": {
        "id": "t3gJqyQeSHqL",
        "colab_type": "code",
        "colab": {}
      },
      "source": [
        "#Create separate lists\n",
        "X1 = data['X1']\n",
        "X2 = data['X2']\n",
        "y = data['y']"
      ],
      "execution_count": 0,
      "outputs": []
    },
    {
      "cell_type": "code",
      "metadata": {
        "id": "BMZZ4VdqSLyc",
        "colab_type": "code",
        "colab": {}
      },
      "source": [
        "#convert into arrays\n",
        "X1 = np.array(X1).reshape(len(X1),1)\n",
        "X2 = np.array(X2).reshape(len(X2),1)\n",
        "y = np.array(y).reshape(len(y),1)\n",
        "\n",
        "#for sklearn\n",
        "a = np.c_[X1,X2]\n",
        "b = y"
      ],
      "execution_count": 0,
      "outputs": []
    },
    {
      "cell_type": "code",
      "metadata": {
        "id": "YvdFFQii7bPF",
        "colab_type": "code",
        "colab": {}
      },
      "source": [
        "X1 = (X1 -np.mean(X1))/np.std(X1)\n",
        "X2 = (X2 -np.mean(X2))/np.std(X2)"
      ],
      "execution_count": 0,
      "outputs": []
    },
    {
      "cell_type": "code",
      "metadata": {
        "id": "Cq_xpjS8Uj2S",
        "colab_type": "code",
        "colab": {}
      },
      "source": [
        "#creating ones\n",
        "x_= np.ones(len(X))"
      ],
      "execution_count": 0,
      "outputs": []
    },
    {
      "cell_type": "code",
      "metadata": {
        "id": "bWjinNTkVnCa",
        "colab_type": "code",
        "colab": {}
      },
      "source": [
        "#Concatenate ones to the large X to create two columns\n",
        "X = np.c_[x_,X1,X2]"
      ],
      "execution_count": 0,
      "outputs": []
    },
    {
      "cell_type": "code",
      "metadata": {
        "id": "4EnLC9u8S1ed",
        "colab_type": "code",
        "colab": {}
      },
      "source": [
        "import math\n",
        "#Creating the cost function\n",
        "theta = [[0],\n",
        "         [0],\n",
        "        [0]]\n",
        "def sig(a):\n",
        "  sigmoid = 1/(1+np.exp(-a))\n",
        "  return sigmoid\n",
        "def costfunction(X,y,theta):\n",
        "  h = np.dot(X,theta)\n",
        "  h_logistic = sig(h)\n",
        "  m = len(X)\n",
        "  part1 = np.dot(np.log(h_logistic).T, y)\n",
        "  part2 = np.dot(np.log(1- h_logistic).T,(1-y))\n",
        "  allparts = part1 + part2\n",
        "  allparts_sum = allparts/m\n",
        "  J = -1*allparts_sum\n",
        "  #J = -(np.sum(np.dot(y,np.log(h_logistic))+ np.dot(1-y,np.log(1-h_logistic))))/m #cost function\n",
        "  return J[0]"
      ],
      "execution_count": 0,
      "outputs": []
    },
    {
      "cell_type": "code",
      "metadata": {
        "id": "oK2B9zAQWCOv",
        "colab_type": "code",
        "outputId": "f0bef63f-6f42-40d3-ae62-597d8c188c8a",
        "colab": {
          "base_uri": "https://localhost:8080/",
          "height": 34
        }
      },
      "source": [
        "#Compute the cost function\n",
        "costfunction(X,y,theta)"
      ],
      "execution_count": 0,
      "outputs": [
        {
          "output_type": "execute_result",
          "data": {
            "text/plain": [
              "array([0.69314718])"
            ]
          },
          "metadata": {
            "tags": []
          },
          "execution_count": 172
        }
      ]
    },
    {
      "cell_type": "code",
      "metadata": {
        "id": "MRAoJ9BBWCvL",
        "colab_type": "code",
        "colab": {}
      },
      "source": [
        "#Lets run gradient descent\n",
        "def gradientdescent(X,y,theta,alpha=0.00001,steps=10000):\n",
        "  m = len(X)\n",
        "  transpos = X.T\n",
        "  cost =[]\n",
        "  for i in range(steps):\n",
        "    h = np.dot(X,theta)\n",
        "    grad_part1 = np.dot(X.T,(sig(h)-y))\n",
        "    grad_part2 = alpha * (grad_part1)*1/m\n",
        "    theta = theta - grad_part2\n",
        "    #theta = theta - alpha*(1/m)*(np.dot(transpos,(sig(h)-y)))\n",
        "    cost.append(costfunction(X,y,theta))\n",
        "  return theta, cost"
      ],
      "execution_count": 0,
      "outputs": []
    },
    {
      "cell_type": "code",
      "metadata": {
        "id": "fx0f7p_JaNl4",
        "colab_type": "code",
        "colab": {}
      },
      "source": [
        "#for i in range()\n",
        "result, cost =gradientdescent(X,y,theta,alpha)"
      ],
      "execution_count": 0,
      "outputs": []
    },
    {
      "cell_type": "code",
      "metadata": {
        "id": "enG4S3DW4FT2",
        "colab_type": "code",
        "outputId": "45e8c0c2-ff56-4879-ceec-336c89e12531",
        "colab": {
          "base_uri": "https://localhost:8080/",
          "height": 286
        }
      },
      "source": [
        "cost = [x for x in cost if str(x) != 'nan']\n",
        "plt.plot(cost)"
      ],
      "execution_count": 0,
      "outputs": [
        {
          "output_type": "execute_result",
          "data": {
            "text/plain": [
              "[<matplotlib.lines.Line2D at 0x7fd6afed4b38>]"
            ]
          },
          "metadata": {
            "tags": []
          },
          "execution_count": 217
        },
        {
          "output_type": "display_data",
          "data": {
            "image/png": "[encoded data removed]",
            "text/plain": [
              "<Figure size 432x288 with 1 Axes>"
            ]
          },
          "metadata": {
            "tags": []
          }
        }
      ]
    },
    {
      "cell_type": "code",
      "metadata": {
        "id": "aUiy6k3ve0zX",
        "colab_type": "code",
        "outputId": "3155e3e6-4693-4641-fb68-43f1414c8e86",
        "colab": {
          "base_uri": "https://localhost:8080/",
          "height": 68
        }
      },
      "source": [
        "result"
      ],
      "execution_count": 0,
      "outputs": [
        {
          "output_type": "execute_result",
          "data": {
            "text/plain": [
              "array([[1.27071379],\n",
              "       [3.04735849],\n",
              "       [2.81165934]])"
            ]
          },
          "metadata": {
            "tags": []
          },
          "execution_count": 219
        }
      ]
    },
    {
      "cell_type": "code",
      "metadata": {
        "id": "9m2uH1XrfRgA",
        "colab_type": "code",
        "outputId": "2553c81e-0f18-463c-ac74-753a6eb6fa4c",
        "colab": {
          "base_uri": "https://localhost:8080/",
          "height": 173
        }
      },
      "source": [
        "from sklearn.linear_model import LogisticRegression\n",
        "lr = LogisticRegression()\n",
        "lr.fit(a,b)"
      ],
      "execution_count": 0,
      "outputs": [
        {
          "output_type": "stream",
          "text": [
            "/usr/local/lib/python3.6/dist-packages/sklearn/linear_model/logistic.py:433: FutureWarning: Default solver will be changed to 'lbfgs' in 0.22. Specify a solver to silence this warning.\n",
            "  FutureWarning)\n",
            "/usr/local/lib/python3.6/dist-packages/sklearn/utils/validation.py:761: DataConversionWarning: A column-vector y was passed when a 1d array was expected. Please change the shape of y to (n_samples, ), for example using ravel().\n",
            "  y = column_or_1d(y, warn=True)\n"
          ],
          "name": "stderr"
        },
        {
          "output_type": "execute_result",
          "data": {
            "text/plain": [
              "LogisticRegression(C=1.0, class_weight=None, dual=False, fit_intercept=True,\n",
              "          intercept_scaling=1, max_iter=100, multi_class='warn',\n",
              "          n_jobs=None, penalty='l2', random_state=None, solver='warn',\n",
              "          tol=0.0001, verbose=0, warm_start=False)"
            ]
          },
          "metadata": {
            "tags": []
          },
          "execution_count": 235
        }
      ]
    },
    {
      "cell_type": "code",
      "metadata": {
        "id": "UX_CN3ORjaqz",
        "colab_type": "code",
        "outputId": "39035d36-f4d9-4e61-c368-722761b7abd4",
        "colab": {
          "base_uri": "https://localhost:8080/",
          "height": 51
        }
      },
      "source": [
        "print(lr.intercept_)\n",
        "print(lr.coef_)\n"
      ],
      "execution_count": 0,
      "outputs": [
        {
          "output_type": "stream",
          "text": [
            "[0.89684257]\n",
            "[[2.23646845 2.04111273]]\n"
          ],
          "name": "stdout"
        }
      ]
    },
    {
      "cell_type": "code",
      "metadata": {
        "id": "NQEaw54nkKUf",
        "colab_type": "code",
        "colab": {}
      },
      "source": [
        "#predicting the results from our model\n",
        "\n",
        "def predict(theta, X, threshold =0.5):\n",
        "  p = sig(X.dot(theta.T)) >= threshold\n",
        "  return (p.astype('int'))"
      ],
      "execution_count": 0,
      "outputs": []
    },
    {
      "cell_type": "code",
      "metadata": {
        "id": "t75IJo_XBRkv",
        "colab_type": "code",
        "colab": {}
      },
      "source": [
        "pred = predict(result.T,X)"
      ],
      "execution_count": 0,
      "outputs": []
    },
    {
      "cell_type": "code",
      "metadata": {
        "id": "bJ1lyr3rBXRY",
        "colab_type": "code",
        "outputId": "9f2248dc-4204-45ac-dd3a-fe4f4c57e7e5",
        "colab": {
          "base_uri": "https://localhost:8080/",
          "height": 34
        }
      },
      "source": [
        "from sklearn.metrics import accuracy_score\n",
        "print(accuracy_score(y, pred))"
      ],
      "execution_count": 0,
      "outputs": [
        {
          "output_type": "stream",
          "text": [
            "0.89\n"
          ],
          "name": "stdout"
        }
      ]
    },
    {
      "cell_type": "code",
      "metadata": {
        "id": "1cs6yURzBfTX",
        "colab_type": "code",
        "colab": {}
      },
      "source": [
        ""
      ],
      "execution_count": 0,
      "outputs": []
    }
  ]
}