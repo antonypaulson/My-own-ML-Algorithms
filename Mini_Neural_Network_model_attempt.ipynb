{
  "nbformat": 4,
  "nbformat_minor": 0,
  "metadata": {
    "colab": {
      "name": "Mini Neural Network model attempt.ipynb",
      "version": "0.3.2",
      "provenance": [],
      "collapsed_sections": [],
      "include_colab_link": true
    },
    "kernelspec": {
      "name": "python3",
      "display_name": "Python 3"
    }
  },
  "cells": [
    {
      "cell_type": "markdown",
      "metadata": {
        "id": "view-in-github",
        "colab_type": "text"
      },
      "source": [
        "<a href=\"https://colab.research.google.com/github/antonypaulson/My-own-ML-Algorithms/blob/master/Mini_Neural_Network_model_attempt.ipynb\" target=\"_parent\"><img src=\"https://colab.research.google.com/assets/colab-badge.svg\" alt=\"Open In Colab\"/></a>"
      ]
    },
    {
      "cell_type": "code",
      "metadata": {
        "id": "k8eTnQ-8FWrp",
        "colab_type": "code",
        "colab": {}
      },
      "source": [
        "from scipy.io import loadmat\n",
        "import numpy as np\n",
        "import pandas as pd\n",
        "import matplotlib.pyplot as plt\n",
        "import math\n",
        " "
      ],
      "execution_count": 0,
      "outputs": []
    },
    {
      "cell_type": "code",
      "metadata": {
        "id": "kQ3uOmlyGfpW",
        "colab_type": "code",
        "colab": {}
      },
      "source": [
        "#getting data\n",
        "data = loadmat('ex3data1.mat')\n",
        "wts = loadmat('ex3weights.mat')"
      ],
      "execution_count": 0,
      "outputs": []
    },
    {
      "cell_type": "code",
      "metadata": {
        "id": "xg8RXF-2GnIr",
        "colab_type": "code",
        "colab": {}
      },
      "source": [
        "y = data['y']\n",
        "X = data['X']"
      ],
      "execution_count": 0,
      "outputs": []
    },
    {
      "cell_type": "code",
      "metadata": {
        "id": "yfUFsGniI92a",
        "colab_type": "code",
        "colab": {
          "base_uri": "https://localhost:8080/",
          "height": 34
        },
        "outputId": "d7741603-c4d1-4fec-879b-dfc9f8fd55bf"
      },
      "source": [
        "#Creating a dummy column of ones\n",
        "ones = np.ones((len(X),1))\n",
        "x = np.c_[ones,X]\n",
        "x.shape"
      ],
      "execution_count": 61,
      "outputs": [
        {
          "output_type": "execute_result",
          "data": {
            "text/plain": [
              "(5000, 401)"
            ]
          },
          "metadata": {
            "tags": []
          },
          "execution_count": 61
        }
      ]
    },
    {
      "cell_type": "code",
      "metadata": {
        "id": "885bUay5J3KX",
        "colab_type": "code",
        "outputId": "26cc236c-8065-48a0-da3f-f15b48355c0a",
        "colab": {
          "base_uri": "https://localhost:8080/",
          "height": 51
        }
      },
      "source": [
        "#Grabbing thetas from the dataset\n",
        "theta1 = wts['Theta1']\n",
        "theta2 = wts['Theta2']\n",
        "\n",
        "print('Theta1 shape: {} \\nTheta2 shape: {}'.format(theta1.shape, theta2.shape))"
      ],
      "execution_count": 47,
      "outputs": [
        {
          "output_type": "stream",
          "text": [
            "Theta1 shape: (25, 401) \n",
            "Theta2 shape: (10, 26)\n"
          ],
          "name": "stdout"
        }
      ]
    },
    {
      "cell_type": "code",
      "metadata": {
        "id": "xQO4nPPeKrQ7",
        "colab_type": "code",
        "outputId": "9513ee8a-ecb9-4756-c67e-f468d5e4904c",
        "colab": {
          "base_uri": "https://localhost:8080/",
          "height": 265
        }
      },
      "source": [
        "#Trying to display part of thedata\n",
        "\n",
        "sample = np.random.choice(len(X),20)\n",
        "plt.imshow(X[[4999]].reshape(-1,20).T)\n",
        "plt.axis('off');"
      ],
      "execution_count": 102,
      "outputs": [
        {
          "output_type": "display_data",
          "data": {
            "image/png": "[encoded data removed]",
            "text/plain": [
              "<Figure size 432x288 with 1 Axes>"
            ]
          },
          "metadata": {
            "tags": []
          }
        }
      ]
    },
    {
      "cell_type": "code",
      "metadata": {
        "id": "KbyUvbrDSP3u",
        "colab_type": "code",
        "colab": {}
      },
      "source": [
        "def sigmoid(hyp):\n",
        "  return 1/(1+np.exp(-hyp))"
      ],
      "execution_count": 0,
      "outputs": []
    },
    {
      "cell_type": "code",
      "metadata": {
        "id": "OxEmQhUfL6qN",
        "colab_type": "code",
        "colab": {}
      },
      "source": [
        "#Adding 1 at the end because python indexing starts from 0\n",
        "#The 10 features in the output are 1,2,3,4,5,6,7,8,9,10\n",
        "#0 is represented by 10\n",
        "def predict(theta1, theta2, features):\n",
        "  z2 = np.dot(theta1, features.T)\n",
        "  ones = np.ones((len(x),1))\n",
        "  sig = sigmoid(z2)\n",
        "  a2 = np.c_[ones, sig.T]\n",
        "  \n",
        "  z3 = np.dot(a2,theta2.T)\n",
        "  \n",
        "  h = sigmoid(z3)\n",
        "  \n",
        "  return h.shape, h.argmax(axis=1)+1"
      ],
      "execution_count": 0,
      "outputs": []
    },
    {
      "cell_type": "code",
      "metadata": {
        "id": "TcfcWHcCSyKD",
        "colab_type": "code",
        "colab": {
          "base_uri": "https://localhost:8080/",
          "height": 34
        },
        "outputId": "03c796e5-c791-4dad-b1c5-2377e6a4278e"
      },
      "source": [
        "predict(theta1, theta2, x)"
      ],
      "execution_count": 104,
      "outputs": [
        {
          "output_type": "execute_result",
          "data": {
            "text/plain": [
              "((5000, 10), array([10, 10, 10, ...,  9,  9,  9]))"
            ]
          },
          "metadata": {
            "tags": []
          },
          "execution_count": 104
        }
      ]
    },
    {
      "cell_type": "code",
      "metadata": {
        "id": "232WxZFxVxFV",
        "colab_type": "code",
        "colab": {}
      },
      "source": [
        ""
      ],
      "execution_count": 0,
      "outputs": []
    }
  ]
}