{
  "nbformat": 4,
  "nbformat_minor": 0,
  "metadata": {
    "colab": {
      "name": "REGULARIZED Logistic Regression Model SIngle variable.ipynb",
      "version": "0.3.2",
      "provenance": [],
      "include_colab_link": true
    },
    "kernelspec": {
      "name": "python3",
      "display_name": "Python 3"
    }
  },
  "cells": [
    {
      "cell_type": "markdown",
      "metadata": {
        "id": "view-in-github",
        "colab_type": "text"
      },
      "source": [
        "<a href=\"https://colab.research.google.com/github/antonypaulson/My-own-ML-Algorithms/blob/master/REGULARIZED_Logistic_Regression_Model_SIngle_variable.ipynb\" target=\"_parent\"><img src=\"https://colab.research.google.com/assets/colab-badge.svg\" alt=\"Open In Colab\"/></a>"
      ]
    },
    {
      "cell_type": "code",
      "metadata": {
        "id": "rj5ilTXGMPmf",
        "colab_type": "code",
        "colab": {}
      },
      "source": [
        "#Importing the libraries\n",
        "import numpy as np\n",
        "import pandas as pd"
      ],
      "execution_count": 0,
      "outputs": []
    },
    {
      "cell_type": "code",
      "metadata": {
        "id": "Rtvr-FikM_u7",
        "colab_type": "code",
        "colab": {}
      },
      "source": [
        "#Import the data\n",
        "data = pd.read_csv('ex2data2.txt',header=None, names =[\"X1\",\"X2\", \"y\"])"
      ],
      "execution_count": 0,
      "outputs": []
    },
    {
      "cell_type": "code",
      "metadata": {
        "id": "whtZhMQ8pRxh",
        "colab_type": "code",
        "outputId": "bf45b0f9-84df-46ba-de29-bdd9109eaf68",
        "colab": {
          "base_uri": "https://localhost:8080/",
          "height": 85
        }
      },
      "source": [
        "data.isnull().sum()"
      ],
      "execution_count": 0,
      "outputs": [
        {
          "output_type": "execute_result",
          "data": {
            "text/plain": [
              "X1    0\n",
              "X2    0\n",
              "y     0\n",
              "dtype: int64"
            ]
          },
          "metadata": {
            "tags": []
          },
          "execution_count": 137
        }
      ]
    },
    {
      "cell_type": "code",
      "metadata": {
        "id": "t3gJqyQeSHqL",
        "colab_type": "code",
        "colab": {}
      },
      "source": [
        "#Create separate lists\n",
        "X1 = data['X1']\n",
        "X2 = data['X2']\n",
        "y = data['y']"
      ],
      "execution_count": 0,
      "outputs": []
    },
    {
      "cell_type": "code",
      "metadata": {
        "id": "BMZZ4VdqSLyc",
        "colab_type": "code",
        "colab": {}
      },
      "source": [
        "#convert into arrays\n",
        "X1 = np.array(X1).reshape(len(X1),1)\n",
        "X2 = np.array(X2).reshape(len(X2),1)\n",
        "y = np.array(y).reshape(len(y),1)\n",
        "\n",
        "#for sklearn\n",
        "a = np.c_[X1,X2]\n",
        "b = y"
      ],
      "execution_count": 0,
      "outputs": []
    },
    {
      "cell_type": "code",
      "metadata": {
        "id": "YvdFFQii7bPF",
        "colab_type": "code",
        "colab": {}
      },
      "source": [
        "# X1 = (X1 -np.mean(X1))/np.std(X1)\n",
        "# X2 = (X2 -np.mean(X2))/np.std(X2)"
      ],
      "execution_count": 0,
      "outputs": []
    },
    {
      "cell_type": "code",
      "metadata": {
        "id": "Cq_xpjS8Uj2S",
        "colab_type": "code",
        "colab": {}
      },
      "source": [
        "#creating ones\n",
        "x_= np.ones(len(X1))"
      ],
      "execution_count": 0,
      "outputs": []
    },
    {
      "cell_type": "code",
      "metadata": {
        "id": "bWjinNTkVnCa",
        "colab_type": "code",
        "outputId": "0f36b417-aafb-43df-edec-734ae033802a",
        "colab": {
          "base_uri": "https://localhost:8080/",
          "height": 2023
        }
      },
      "source": [
        "#Concatenate ones to the large X to create two columns\n",
        "X = np.c_[x_,X1,X2]\n",
        "X"
      ],
      "execution_count": 0,
      "outputs": [
        {
          "output_type": "execute_result",
          "data": {
            "text/plain": [
              "array([[ 1.       ,  0.051267 ,  0.69956  ],\n",
              "       [ 1.       , -0.092742 ,  0.68494  ],\n",
              "       [ 1.       , -0.21371  ,  0.69225  ],\n",
              "       [ 1.       , -0.375    ,  0.50219  ],\n",
              "       [ 1.       , -0.51325  ,  0.46564  ],\n",
              "       [ 1.       , -0.52477  ,  0.2098   ],\n",
              "       [ 1.       , -0.39804  ,  0.034357 ],\n",
              "       [ 1.       , -0.30588  , -0.19225  ],\n",
              "       [ 1.       ,  0.016705 , -0.40424  ],\n",
              "       [ 1.       ,  0.13191  , -0.51389  ],\n",
              "       [ 1.       ,  0.38537  , -0.56506  ],\n",
              "       [ 1.       ,  0.52938  , -0.5212   ],\n",
              "       [ 1.       ,  0.63882  , -0.24342  ],\n",
              "       [ 1.       ,  0.73675  , -0.18494  ],\n",
              "       [ 1.       ,  0.54666  ,  0.48757  ],\n",
              "       [ 1.       ,  0.322    ,  0.5826   ],\n",
              "       [ 1.       ,  0.16647  ,  0.53874  ],\n",
              "       [ 1.       , -0.046659 ,  0.81652  ],\n",
              "       [ 1.       , -0.17339  ,  0.69956  ],\n",
              "       [ 1.       , -0.47869  ,  0.63377  ],\n",
              "       [ 1.       , -0.60541  ,  0.59722  ],\n",
              "       [ 1.       , -0.62846  ,  0.33406  ],\n",
              "       [ 1.       , -0.59389  ,  0.005117 ],\n",
              "       [ 1.       , -0.42108  , -0.27266  ],\n",
              "       [ 1.       , -0.11578  , -0.39693  ],\n",
              "       [ 1.       ,  0.20104  , -0.60161  ],\n",
              "       [ 1.       ,  0.46601  , -0.53582  ],\n",
              "       [ 1.       ,  0.67339  , -0.53582  ],\n",
              "       [ 1.       , -0.13882  ,  0.54605  ],\n",
              "       [ 1.       , -0.29435  ,  0.77997  ],\n",
              "       [ 1.       , -0.26555  ,  0.96272  ],\n",
              "       [ 1.       , -0.16187  ,  0.8019   ],\n",
              "       [ 1.       , -0.17339  ,  0.64839  ],\n",
              "       [ 1.       , -0.28283  ,  0.47295  ],\n",
              "       [ 1.       , -0.36348  ,  0.31213  ],\n",
              "       [ 1.       , -0.30012  ,  0.027047 ],\n",
              "       [ 1.       , -0.23675  , -0.21418  ],\n",
              "       [ 1.       , -0.06394  , -0.18494  ],\n",
              "       [ 1.       ,  0.062788 , -0.16301  ],\n",
              "       [ 1.       ,  0.22984  , -0.41155  ],\n",
              "       [ 1.       ,  0.2932   , -0.2288   ],\n",
              "       [ 1.       ,  0.48329  , -0.18494  ],\n",
              "       [ 1.       ,  0.64459  , -0.14108  ],\n",
              "       [ 1.       ,  0.46025  ,  0.012427 ],\n",
              "       [ 1.       ,  0.6273   ,  0.15863  ],\n",
              "       [ 1.       ,  0.57546  ,  0.26827  ],\n",
              "       [ 1.       ,  0.72523  ,  0.44371  ],\n",
              "       [ 1.       ,  0.22408  ,  0.52412  ],\n",
              "       [ 1.       ,  0.44297  ,  0.67032  ],\n",
              "       [ 1.       ,  0.322    ,  0.69225  ],\n",
              "       [ 1.       ,  0.13767  ,  0.57529  ],\n",
              "       [ 1.       , -0.0063364,  0.39985  ],\n",
              "       [ 1.       , -0.092742 ,  0.55336  ],\n",
              "       [ 1.       , -0.20795  ,  0.35599  ],\n",
              "       [ 1.       , -0.20795  ,  0.17325  ],\n",
              "       [ 1.       , -0.43836  ,  0.21711  ],\n",
              "       [ 1.       , -0.21947  , -0.016813 ],\n",
              "       [ 1.       , -0.13882  , -0.27266  ],\n",
              "       [ 1.       ,  0.18376  ,  0.93348  ],\n",
              "       [ 1.       ,  0.22408  ,  0.77997  ],\n",
              "       [ 1.       ,  0.29896  ,  0.61915  ],\n",
              "       [ 1.       ,  0.50634  ,  0.75804  ],\n",
              "       [ 1.       ,  0.61578  ,  0.7288   ],\n",
              "       [ 1.       ,  0.60426  ,  0.59722  ],\n",
              "       [ 1.       ,  0.76555  ,  0.50219  ],\n",
              "       [ 1.       ,  0.92684  ,  0.3633   ],\n",
              "       [ 1.       ,  0.82316  ,  0.27558  ],\n",
              "       [ 1.       ,  0.96141  ,  0.085526 ],\n",
              "       [ 1.       ,  0.93836  ,  0.012427 ],\n",
              "       [ 1.       ,  0.86348  , -0.082602 ],\n",
              "       [ 1.       ,  0.89804  , -0.20687  ],\n",
              "       [ 1.       ,  0.85196  , -0.36769  ],\n",
              "       [ 1.       ,  0.82892  , -0.5212   ],\n",
              "       [ 1.       ,  0.79435  , -0.55775  ],\n",
              "       [ 1.       ,  0.59274  , -0.7405   ],\n",
              "       [ 1.       ,  0.51786  , -0.5943   ],\n",
              "       [ 1.       ,  0.46601  , -0.41886  ],\n",
              "       [ 1.       ,  0.35081  , -0.57968  ],\n",
              "       [ 1.       ,  0.28744  , -0.76974  ],\n",
              "       [ 1.       ,  0.085829 , -0.75512  ],\n",
              "       [ 1.       ,  0.14919  , -0.57968  ],\n",
              "       [ 1.       , -0.13306  , -0.4481   ],\n",
              "       [ 1.       , -0.40956  , -0.41155  ],\n",
              "       [ 1.       , -0.39228  , -0.25804  ],\n",
              "       [ 1.       , -0.74366  , -0.25804  ],\n",
              "       [ 1.       , -0.69758  ,  0.041667 ],\n",
              "       [ 1.       , -0.75518  ,  0.2902   ],\n",
              "       [ 1.       , -0.69758  ,  0.68494  ],\n",
              "       [ 1.       , -0.4038   ,  0.70687  ],\n",
              "       [ 1.       , -0.38076  ,  0.91886  ],\n",
              "       [ 1.       , -0.50749  ,  0.90424  ],\n",
              "       [ 1.       , -0.54781  ,  0.70687  ],\n",
              "       [ 1.       ,  0.10311  ,  0.77997  ],\n",
              "       [ 1.       ,  0.057028 ,  0.91886  ],\n",
              "       [ 1.       , -0.10426  ,  0.99196  ],\n",
              "       [ 1.       , -0.081221 ,  1.1089   ],\n",
              "       [ 1.       ,  0.28744  ,  1.087    ],\n",
              "       [ 1.       ,  0.39689  ,  0.82383  ],\n",
              "       [ 1.       ,  0.63882  ,  0.88962  ],\n",
              "       [ 1.       ,  0.82316  ,  0.66301  ],\n",
              "       [ 1.       ,  0.67339  ,  0.64108  ],\n",
              "       [ 1.       ,  1.0709   ,  0.10015  ],\n",
              "       [ 1.       , -0.046659 , -0.57968  ],\n",
              "       [ 1.       , -0.23675  , -0.63816  ],\n",
              "       [ 1.       , -0.15035  , -0.36769  ],\n",
              "       [ 1.       , -0.49021  , -0.3019   ],\n",
              "       [ 1.       , -0.46717  , -0.13377  ],\n",
              "       [ 1.       , -0.28859  , -0.060673 ],\n",
              "       [ 1.       , -0.61118  , -0.067982 ],\n",
              "       [ 1.       , -0.66302  , -0.21418  ],\n",
              "       [ 1.       , -0.59965  , -0.41886  ],\n",
              "       [ 1.       , -0.72638  , -0.082602 ],\n",
              "       [ 1.       , -0.83007  ,  0.31213  ],\n",
              "       [ 1.       , -0.72062  ,  0.53874  ],\n",
              "       [ 1.       , -0.59389  ,  0.49488  ],\n",
              "       [ 1.       , -0.48445  ,  0.99927  ],\n",
              "       [ 1.       , -0.0063364,  0.99927  ],\n",
              "       [ 1.       ,  0.63265  , -0.030612 ]])"
            ]
          },
          "metadata": {
            "tags": []
          },
          "execution_count": 181
        }
      ]
    },
    {
      "cell_type": "code",
      "metadata": {
        "id": "4EnLC9u8S1ed",
        "colab_type": "code",
        "colab": {}
      },
      "source": [
        "import math\n",
        "#Creating the cost function\n",
        "theta = [[0],\n",
        "         [0],\n",
        "        [0]]\n",
        "def sig(a):\n",
        "  sigmoid = 1/(1+np.exp(-a))\n",
        "  return sigmoid\n",
        "def costfunction(X,y,theta,lambda_value):\n",
        "  h = np.dot(X,theta)\n",
        "  h_logistic = sig(h)\n",
        "  m = len(X)\n",
        "  part1 = np.dot(np.log(h_logistic).T, y)\n",
        "  part2 = np.dot(np.log(1- h_logistic).T,(1-y))\n",
        "  allparts = part1 + part2\n",
        "  allparts_sum = allparts/m\n",
        "  J = -1*allparts_sum\n",
        "  J = J + (lambda_value/(2*len(X))*(np.sum(np.square(theta))))\n",
        "  #J = -(np.sum(np.dot(y,np.log(h_logistic))+ np.dot(1-y,np.log(1-h_logistic))))/m #cost function\n",
        "  return J[0]"
      ],
      "execution_count": 0,
      "outputs": []
    },
    {
      "cell_type": "code",
      "metadata": {
        "id": "oK2B9zAQWCOv",
        "colab_type": "code",
        "outputId": "bbcd6616-e0f8-45e8-ecb9-6206a7d30e70",
        "colab": {
          "base_uri": "https://localhost:8080/",
          "height": 34
        }
      },
      "source": [
        "#Compute the cost function\n",
        "costfunction(X,y,theta, lambda_value)"
      ],
      "execution_count": 0,
      "outputs": [
        {
          "output_type": "execute_result",
          "data": {
            "text/plain": [
              "array([0.69314718])"
            ]
          },
          "metadata": {
            "tags": []
          },
          "execution_count": 185
        }
      ]
    },
    {
      "cell_type": "code",
      "metadata": {
        "id": "MRAoJ9BBWCvL",
        "colab_type": "code",
        "colab": {}
      },
      "source": [
        "#Lets run gradient descent\n",
        "def gradientdescent(X,y,theta,alpha,steps,lambda_value):\n",
        "  m = len(X)\n",
        "  lambda_component = lambda_value/m\n",
        "  transpos = X.T\n",
        "  cost =[]\n",
        "  for i in range(steps):\n",
        "    h = np.dot(X,theta)\n",
        "    grad_part1 = np.dot(X.T,(sig(h)-y))\n",
        "    grad_part2 = alpha * (grad_part1)*1/m\n",
        "    grad_part3 = grad_part2 + lambda_component*np.sum(theta)\n",
        "    theta = theta - grad_part3\n",
        "    #theta = theta - alpha*(1/m)*(np.dot(transpos,(sig(h)-y)))\n",
        "    cost.append(costfunction(X,y,theta, lambda_value))\n",
        "  return theta, cost"
      ],
      "execution_count": 0,
      "outputs": []
    },
    {
      "cell_type": "code",
      "metadata": {
        "id": "fx0f7p_JaNl4",
        "colab_type": "code",
        "colab": {}
      },
      "source": [
        "#for i in range()\n",
        "result, cost =gradientdescent(X,y,theta,0.1, 10000, 0.01)"
      ],
      "execution_count": 0,
      "outputs": []
    },
    {
      "cell_type": "code",
      "metadata": {
        "id": "enG4S3DW4FT2",
        "colab_type": "code",
        "outputId": "9686252d-6ca9-4078-ed24-7b39d1213c1e",
        "colab": {
          "base_uri": "https://localhost:8080/",
          "height": 286
        }
      },
      "source": [
        "import matplotlib.pyplot as plt\n",
        "cost = [x for x in cost if str(x) != 'nan']\n",
        "plt.plot(cost)"
      ],
      "execution_count": 207,
      "outputs": [
        {
          "output_type": "execute_result",
          "data": {
            "text/plain": [
              "[<matplotlib.lines.Line2D at 0x7fd79b946400>]"
            ]
          },
          "metadata": {
            "tags": []
          },
          "execution_count": 207
        },
        {
          "output_type": "display_data",
          "data": {
            "image/png": "[encoded data removed]",
            "text/plain": [
              "<Figure size 432x288 with 1 Axes>"
            ]
          },
          "metadata": {
            "tags": []
          }
        }
      ]
    },
    {
      "cell_type": "code",
      "metadata": {
        "id": "aUiy6k3ve0zX",
        "colab_type": "code",
        "outputId": "d931d7df-b85f-40f6-d9d0-ddc010a8e1d7",
        "colab": {
          "base_uri": "https://localhost:8080/",
          "height": 68
        }
      },
      "source": [
        "result"
      ],
      "execution_count": 208,
      "outputs": [
        {
          "output_type": "execute_result",
          "data": {
            "text/plain": [
              "array([[-0.01407314],\n",
              "       [-0.29859661],\n",
              "       [-0.01409034]])"
            ]
          },
          "metadata": {
            "tags": []
          },
          "execution_count": 208
        }
      ]
    },
    {
      "cell_type": "code",
      "metadata": {
        "id": "lYiMMxjAxBtK",
        "colab_type": "code",
        "colab": {}
      },
      "source": [
        "def sigmoid(hyp):\n",
        "  return 1/(1+np.exp(-hyp))"
      ],
      "execution_count": 0,
      "outputs": []
    },
    {
      "cell_type": "code",
      "metadata": {
        "id": "VoMfSQJIwQB8",
        "colab_type": "code",
        "colab": {}
      },
      "source": [
        "def predict (theta, X, threshold =0.5):\n",
        "  p = sigmoid(X.dot(theta.T)) >= threshold\n",
        "  return(p.astype('int'))"
      ],
      "execution_count": 0,
      "outputs": []
    },
    {
      "cell_type": "code",
      "metadata": {
        "id": "uK6SELScws7b",
        "colab_type": "code",
        "colab": {}
      },
      "source": [
        "pred = predict(result.T, X)"
      ],
      "execution_count": 0,
      "outputs": []
    },
    {
      "cell_type": "code",
      "metadata": {
        "id": "h1yS3m3lxaJF",
        "colab_type": "code",
        "outputId": "8628e278-fe4f-403f-efe0-f29a874b1481",
        "colab": {
          "base_uri": "https://localhost:8080/",
          "height": 34
        }
      },
      "source": [
        "from sklearn.metrics import accuracy_score\n",
        "print(accuracy_score(y, pred))"
      ],
      "execution_count": 212,
      "outputs": [
        {
          "output_type": "stream",
          "text": [
            "0.5423728813559322\n"
          ],
          "name": "stdout"
        }
      ]
    },
    {
      "cell_type": "code",
      "metadata": {
        "id": "9m2uH1XrfRgA",
        "colab_type": "code",
        "outputId": "47b08d47-e533-4e19-b66b-c9a43421e95b",
        "colab": {
          "base_uri": "https://localhost:8080/",
          "height": 193
        }
      },
      "source": [
        "from sklearn.linear_model import LogisticRegression\n",
        "lr = LogisticRegression()\n",
        "lr.fit(a,b)"
      ],
      "execution_count": 213,
      "outputs": [
        {
          "output_type": "stream",
          "text": [
            "/usr/local/lib/python3.6/dist-packages/sklearn/linear_model/logistic.py:433: FutureWarning: Default solver will be changed to 'lbfgs' in 0.22. Specify a solver to silence this warning.\n",
            "  FutureWarning)\n",
            "/usr/local/lib/python3.6/dist-packages/sklearn/utils/validation.py:761: DataConversionWarning: A column-vector y was passed when a 1d array was expected. Please change the shape of y to (n_samples, ), for example using ravel().\n",
            "  y = column_or_1d(y, warn=True)\n"
          ],
          "name": "stderr"
        },
        {
          "output_type": "execute_result",
          "data": {
            "text/plain": [
              "LogisticRegression(C=1.0, class_weight=None, dual=False, fit_intercept=True,\n",
              "          intercept_scaling=1, max_iter=100, multi_class='warn',\n",
              "          n_jobs=None, penalty='l2', random_state=None, solver='warn',\n",
              "          tol=0.0001, verbose=0, warm_start=False)"
            ]
          },
          "metadata": {
            "tags": []
          },
          "execution_count": 213
        }
      ]
    },
    {
      "cell_type": "code",
      "metadata": {
        "id": "oq-wHkPZxSzd",
        "colab_type": "code",
        "colab": {
          "base_uri": "https://localhost:8080/",
          "height": 51
        },
        "outputId": "bd216e96-b7d4-4f4a-e166-7c6a29362449"
      },
      "source": [
        "print(lr.intercept_)\n",
        "print(lr.coef_)"
      ],
      "execution_count": 214,
      "outputs": [
        {
          "output_type": "stream",
          "text": [
            "[-0.01675951]\n",
            "[[-0.26556762 -0.01198618]]\n"
          ],
          "name": "stdout"
        }
      ]
    },
    {
      "cell_type": "code",
      "metadata": {
        "id": "R4-Hras-wPLq",
        "colab_type": "code",
        "colab": {}
      },
      "source": [
        "pred2 = lr.predict(a)"
      ],
      "execution_count": 0,
      "outputs": []
    },
    {
      "cell_type": "code",
      "metadata": {
        "id": "UX_CN3ORjaqz",
        "colab_type": "code",
        "outputId": "d6d15a65-bad3-4e51-f49e-69ac60dda996",
        "colab": {
          "base_uri": "https://localhost:8080/",
          "height": 34
        }
      },
      "source": [
        "print(accuracy_score(y, pred2))"
      ],
      "execution_count": 216,
      "outputs": [
        {
          "output_type": "stream",
          "text": [
            "0.5423728813559322\n"
          ],
          "name": "stdout"
        }
      ]
    },
    {
      "cell_type": "code",
      "metadata": {
        "id": "NQEaw54nkKUf",
        "colab_type": "code",
        "colab": {}
      },
      "source": [
        "#predicting the results from our model\n",
        "def predict(theta, X, threshold =0.5):\n",
        "  p = sig(X.dot(theta.T)) >= threshold\n",
        "  return (p.astype('int'))"
      ],
      "execution_count": 0,
      "outputs": []
    },
    {
      "cell_type": "code",
      "metadata": {
        "id": "t75IJo_XBRkv",
        "colab_type": "code",
        "colab": {}
      },
      "source": [
        "pred = predict(result.T,X)"
      ],
      "execution_count": 0,
      "outputs": []
    },
    {
      "cell_type": "code",
      "metadata": {
        "id": "bJ1lyr3rBXRY",
        "colab_type": "code",
        "outputId": "41590054-0598-4cb1-be27-a2141a925cf7",
        "colab": {
          "base_uri": "https://localhost:8080/",
          "height": 34
        }
      },
      "source": [
        "from sklearn.metrics import accuracy_score\n",
        "print(accuracy_score(y, pred))"
      ],
      "execution_count": 219,
      "outputs": [
        {
          "output_type": "stream",
          "text": [
            "0.5423728813559322\n"
          ],
          "name": "stdout"
        }
      ]
    },
    {
      "cell_type": "code",
      "metadata": {
        "id": "1cs6yURzBfTX",
        "colab_type": "code",
        "colab": {}
      },
      "source": [
        ""
      ],
      "execution_count": 0,
      "outputs": []
    }
  ]
}